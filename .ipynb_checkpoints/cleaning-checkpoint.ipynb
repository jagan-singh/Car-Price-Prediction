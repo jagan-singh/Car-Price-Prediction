{
 "cells": [
  {
   "cell_type": "markdown",
   "metadata": {},
   "source": [
    "# Car Price Prediction"
   ]
  },
  {
   "cell_type": "markdown",
   "metadata": {},
   "source": [
    "- Student name: Jagandeep Singh\n",
    "- Student pace: full-time\n",
    "- Scheduled project review date: 31 July\n",
    "- Instructor name: Sean Wilson"
   ]
  },
  {
   "cell_type": "code",
   "execution_count": null,
   "metadata": {},
   "outputs": [],
   "source": [
    "import pandas as pd\n",
    "import numpy as np\n",
    "import matplotlib.pyplot as plt\n",
    "import seaborn as sns\n",
    "import scipy.stats as stats\n",
    "pd.set_option('display.max_columns', None)\n",
    "plt.style.use('seaborn-deep')\n",
    "plt.rcParams.update({'font.size': 15})"
   ]
  },
  {
   "cell_type": "code",
   "execution_count": null,
   "metadata": {},
   "outputs": [],
   "source": [
    "df = pd.read_csv('vehicles.csv')"
   ]
  },
  {
   "cell_type": "code",
   "execution_count": null,
   "metadata": {},
   "outputs": [],
   "source": [
    "df.shape"
   ]
  },
  {
   "cell_type": "code",
   "execution_count": null,
   "metadata": {},
   "outputs": [],
   "source": [
    "len(df[df.price == 0])"
   ]
  },
  {
   "cell_type": "markdown",
   "metadata": {},
   "source": [
    "## Data Cleaning"
   ]
  },
  {
   "cell_type": "code",
   "execution_count": null,
   "metadata": {},
   "outputs": [],
   "source": [
    "# Removing rows with missing price and year\n",
    "df.drop(df[df['price'] == 0].index, inplace = True) \n",
    "df.drop(df[df['year'].isna()].index, inplace = True) \n",
    "df.drop(df[df['year'] == 2021].index, inplace = True)\n",
    "df.drop([496], inplace = True)\n",
    "df.drop(df[df.odometer > 500000].index, inplace = True)"
   ]
  },
  {
   "cell_type": "code",
   "execution_count": null,
   "metadata": {},
   "outputs": [],
   "source": [
    "# Changing type of year to int\n",
    "df['year'] = df['year'].astype(int)\n",
    "df['year'].dtype"
   ]
  },
  {
   "cell_type": "code",
   "execution_count": null,
   "metadata": {},
   "outputs": [],
   "source": [
    "year_med =  dict(df.groupby('year')['odometer'].median())"
   ]
  },
  {
   "cell_type": "code",
   "execution_count": null,
   "metadata": {},
   "outputs": [],
   "source": [
    "# Imputing missing values in odometer with median odometer of each year cars\n",
    "df['odometer'] = df['odometer'].fillna(df['year'].apply(lambda x: year_med.get(x)))"
   ]
  },
  {
   "cell_type": "code",
   "execution_count": null,
   "metadata": {},
   "outputs": [],
   "source": [
    "# Removing the leftover missing values in odometer because no information available for those years\n",
    "df.drop(df[df['odometer'].isna()].index, inplace = True) "
   ]
  },
  {
   "cell_type": "code",
   "execution_count": null,
   "metadata": {},
   "outputs": [],
   "source": [
    "df.shape"
   ]
  },
  {
   "cell_type": "code",
   "execution_count": null,
   "metadata": {},
   "outputs": [],
   "source": [
    "# Dropping cars with price less than 1000 with miles less than 60,000 and model year greater than 2010\n",
    "df.drop(df[(df.price < 1000 ) & (df.odometer < 60000 ) & (df.year > 2010)].index, inplace = True)\n",
    "df.drop(df[(df.price < 200)].index, inplace = True)\n",
    "df.drop(df[(df.price > 50000)].index, inplace = True)"
   ]
  },
  {
   "cell_type": "code",
   "execution_count": null,
   "metadata": {},
   "outputs": [],
   "source": [
    "df.shape"
   ]
  },
  {
   "cell_type": "code",
   "execution_count": null,
   "metadata": {},
   "outputs": [],
   "source": [
    "df.head()"
   ]
  },
  {
   "cell_type": "code",
   "execution_count": null,
   "metadata": {},
   "outputs": [],
   "source": [
    "# Dropping rows with missing cylinders, transmission and drive\n",
    "df.drop(df[(df['cylinders'].isna()) & (df['transmission'].isna()) & (df['drive'].isna())].index, inplace = True)"
   ]
  },
  {
   "cell_type": "code",
   "execution_count": null,
   "metadata": {},
   "outputs": [],
   "source": [
    "df['cylinders'] = df['cylinders'].apply(lambda x: x[0] if not pd.isnull(x) else np.nan)"
   ]
  },
  {
   "cell_type": "code",
   "execution_count": null,
   "metadata": {},
   "outputs": [],
   "source": [
    "# Changing cylinders of tesla cars to 0\n",
    "df.loc[df.manufacturer == 'tesla', 'cylinders'] = 0\n",
    "df.cylinders.fillna(0, inplace = True)\n",
    "df.cylinders =  df.cylinders.replace('o', 0)"
   ]
  },
  {
   "cell_type": "code",
   "execution_count": null,
   "metadata": {},
   "outputs": [],
   "source": [
    "df['cylinders'] = df['cylinders'].astype(int)\n"
   ]
  },
  {
   "cell_type": "code",
   "execution_count": null,
   "metadata": {},
   "outputs": [],
   "source": [
    "# Changing cylinder of all 2019 honda accords to 4\n",
    "df.loc[((df.manufacturer == 'honda') & (df.year == 2019) & (df.model == 'accord')), 'cylinders'] = 4"
   ]
  },
  {
   "cell_type": "code",
   "execution_count": null,
   "metadata": {},
   "outputs": [],
   "source": [
    "df.loc[((df.manufacturer == 'honda') & (df.year == 2020) & (df.model == 'accord')),'cylinders'] = 4"
   ]
  },
  {
   "cell_type": "code",
   "execution_count": null,
   "metadata": {},
   "outputs": [],
   "source": [
    "# Dropping unwanted columns\n",
    "df.drop(['id', 'url', 'region_url', 'VIN', 'lat', 'long','image_url', 'region', 'model','state', 'posting_date', 'Unnamed: 0'], axis = 1, inplace = True) "
   ]
  },
  {
   "cell_type": "code",
   "execution_count": null,
   "metadata": {},
   "outputs": [],
   "source": [
    "df.shape"
   ]
  },
  {
   "cell_type": "code",
   "execution_count": null,
   "metadata": {},
   "outputs": [],
   "source": [
    "df.isna().sum()"
   ]
  },
  {
   "cell_type": "code",
   "execution_count": null,
   "metadata": {},
   "outputs": [],
   "source": [
    "# filling missing condition values with fair considering their condition would be fair\n",
    "#df.condition.fillna('fair', inplace = True)"
   ]
  },
  {
   "cell_type": "code",
   "execution_count": null,
   "metadata": {},
   "outputs": [],
   "source": [
    "df.condition.replace('like new', 'excellent', inplace = True)\n",
    "df.condition.replace('new', 'excellent', inplace = True)"
   ]
  },
  {
   "cell_type": "code",
   "execution_count": null,
   "metadata": {},
   "outputs": [],
   "source": [
    "df.condition.value_counts()"
   ]
  },
  {
   "cell_type": "code",
   "execution_count": null,
   "metadata": {},
   "outputs": [],
   "source": [
    "df.fuel.fillna('gas', inplace = True)"
   ]
  },
  {
   "cell_type": "code",
   "execution_count": null,
   "metadata": {},
   "outputs": [],
   "source": [
    "df.fuel.value_counts()"
   ]
  },
  {
   "cell_type": "code",
   "execution_count": null,
   "metadata": {},
   "outputs": [],
   "source": [
    "df.transmission.value_counts()"
   ]
  },
  {
   "cell_type": "code",
   "execution_count": null,
   "metadata": {},
   "outputs": [],
   "source": [
    "df.loc[(df['description'].str.contains('automatic transmission')) & (df['transmission'] == 'other'), \"transmission\"] = \"automatic\"\n",
    "df.loc[(df['description'].str.contains('manual transmission')) & (df['transmission'] == 'other'), \"transmission\"] = \"manual\"\n",
    "df.loc[(df['description'].str.contains('automatic transmission')) & (df['transmission'].isna()), \"transmission\"] = \"automatic\"\n",
    "df.loc[(df['description'].str.contains('manual transmission')) & (df['transmission'].isna()), \"transmission\"] = \"manual\"\n",
    "\n",
    "df.loc[(df['description'].str.contains('Automatic Transmission')) & (df['transmission'] == 'other'), \"transmission\"] = \"automatic\"\n",
    "df.loc[(df['description'].str.contains('Manual Transmission')) & (df['transmission'] == 'other'), \"transmission\"] = \"manual\"\n",
    "df.loc[(df['description'].str.contains('Automatic Transmission')) & (df['transmission'].isna()), \"transmission\"] = \"automatic\"\n",
    "df.loc[(df['description'].str.contains('Manual Transmission')) & (df['transmission'].isna()), \"transmission\"] = \"manual\"\n",
    "\n",
    "df.loc[(df['description'].str.contains('AUTOMATIC TRANSMISSION')) & (df['transmission'] == 'other'), \"transmission\"] = \"automatic\"\n",
    "df.loc[(df['description'].str.contains('MANUAL TRANSMISSION')) & (df['transmission'] == 'other'), \"transmission\"] = \"manual\"\n",
    "df.loc[(df['description'].str.contains('AUTOMATIC TRANSMISSION')) & (df['transmission'].isna()), \"transmission\"] = \"automatic\"\n",
    "df.loc[(df['description'].str.contains('MANUAL TRANSMISSION')) & (df['transmission'].isna()), \"transmission\"] = \"manual\"\n"
   ]
  },
  {
   "cell_type": "code",
   "execution_count": null,
   "metadata": {},
   "outputs": [],
   "source": [
    "# Assuming most cars have automatic transmission\n",
    "df.transmission.fillna('automatic', inplace = True)"
   ]
  },
  {
   "cell_type": "code",
   "execution_count": null,
   "metadata": {},
   "outputs": [],
   "source": [
    "df.isna().mean()"
   ]
  },
  {
   "cell_type": "code",
   "execution_count": null,
   "metadata": {},
   "outputs": [],
   "source": [
    "# Dropping cars with less than 10 miles and more than 300,000 miles.\n",
    "df.drop(df[df.odometer < 10].index, inplace = True) \n",
    "df.drop(df[df.odometer > 300000].index, inplace = True) "
   ]
  },
  {
   "cell_type": "code",
   "execution_count": null,
   "metadata": {},
   "outputs": [],
   "source": [
    "df.shape"
   ]
  },
  {
   "cell_type": "markdown",
   "metadata": {},
   "source": [
    "### Hypothesis Tests"
   ]
  },
  {
   "cell_type": "markdown",
   "metadata": {},
   "source": [
    "#### First Hypothesis test"
   ]
  },
  {
   "cell_type": "code",
   "execution_count": null,
   "metadata": {},
   "outputs": [],
   "source": [
    "# Null Hypothesis - H0: Mean price of diesel is equal to the mean price of gas\n",
    "# Alternative Hypothesis - HA: Mean price of diesel is different than the mean price of gas\n",
    "\n",
    "diesel = df[df.fuel == 'diesel'].price\n",
    "gas = df[df.fuel == 'gas'].price\n",
    "\n",
    "print(stats.ttest_ind(diesel, gas))\n",
    "\n",
    "# Ttest_indResult(statistic=181.92229245543183, pvalue=0.0)\n",
    "\n",
    "# Reject Null Hypthesis\n",
    "# p-value << 0.05 \n",
    "# Mean price of diesel is different than the mean price of gas\n"
   ]
  },
  {
   "cell_type": "code",
   "execution_count": null,
   "metadata": {},
   "outputs": [],
   "source": [
    "fig = plt.figure(figsize=(12,8))\n",
    "sns.distplot(gas, color = 'red')\n",
    "sns.distplot(diesel)\n",
    "fig.legend(labels=['Gas','Diesel'])\n",
    "plt.title('Distribution of Diesel and Gas car prices')\n",
    "plt.xlabel('Prices')\n",
    "\n",
    "plt.show()"
   ]
  },
  {
   "cell_type": "markdown",
   "metadata": {},
   "source": [
    "#### Second Hypothesis test"
   ]
  },
  {
   "cell_type": "code",
   "execution_count": null,
   "metadata": {},
   "outputs": [],
   "source": [
    "#Null Hypothesis - H0: Mean price of rwd is lesser or equal than the mean price of fwd\n",
    "#Alternative Hypothesis - HA: Mean price of rwd is greater than the mean price of fwd\n",
    "\n",
    "rwd = df[df.drive == 'rwd'].price\n",
    "fwd = df[df.drive == 'fwd'].price\n",
    "\n",
    "print(stats.ttest_ind(rwd, fwd))\n",
    "\n",
    "# Ttest_indResult(statistic=109.39720387405556, pvalue=0.0)\n",
    "\n",
    "# Reject Null Hypthesis\n",
    "# p-value << 0.05 \n",
    "# Mean price of rwd is greater than the mean price of fwd"
   ]
  },
  {
   "cell_type": "code",
   "execution_count": null,
   "metadata": {},
   "outputs": [],
   "source": [
    "fig = plt.figure(figsize=(12,8))\n",
    "sns.distplot(rwd, color = 'red')\n",
    "sns.distplot(fwd)\n",
    "fig.legend(labels=['RWD','FWD'])\n",
    "plt.title('Distribution of RWD and FWD car prices')\n",
    "plt.xlabel('Prices')\n",
    "\n",
    "plt.show()"
   ]
  },
  {
   "cell_type": "markdown",
   "metadata": {},
   "source": [
    "#### Third Hypthesis test"
   ]
  },
  {
   "cell_type": "code",
   "execution_count": null,
   "metadata": {},
   "outputs": [],
   "source": [
    "# Null Hypothesis: There is s\n",
    "# Alt-Hypothesis: There is a significant relation between price and condition.\n",
    "\n",
    "\n",
    "anova = ols('price~condition', data=df).fit()\n",
    "anova_table = sm.stats.anova_lm(anova, type=2)\n",
    "print(anova_table)\n",
    "\n",
    "# p-value = 0\n",
    "# F-stat = 2592.142181\n",
    "# Reject Null Hypothesis\n",
    "# There is a significant relation between price and condition."
   ]
  },
  {
   "cell_type": "code",
   "execution_count": null,
   "metadata": {},
   "outputs": [],
   "source": [
    "plt.figure(figsize=(10,8))\n",
    "df.groupby('condition').price.mean().plot(kind = 'bar',color=['red', 'green', 'blue', 'orange'])\n",
    "plt.title('Average price of cars with Condition')\n",
    "plt.ylabel('Average Price')\n",
    "plt.show()"
   ]
  },
  {
   "cell_type": "code",
   "execution_count": null,
   "metadata": {},
   "outputs": [],
   "source": []
  },
  {
   "cell_type": "markdown",
   "metadata": {},
   "source": [
    "### Visualizations"
   ]
  },
  {
   "cell_type": "code",
   "execution_count": null,
   "metadata": {},
   "outputs": [],
   "source": [
    "plt.figure(figsize=(12,10))\n",
    "sns.distplot(df.price)\n",
    "plt.title('Car Prices Distribution')\n",
    "plt.xlabel('Price')\n",
    "plt.show()"
   ]
  },
  {
   "cell_type": "code",
   "execution_count": null,
   "metadata": {},
   "outputs": [],
   "source": [
    "plt.figure(figsize=(12,10))\n",
    "ax = df['manufacturer'].value_counts(normalize = True).head(10).plot(kind='bar', color = 'green')\n",
    "plt.title('Top 10 Car Brands for sale')\n",
    "plt.xlabel('Brands')\n",
    "plt.ylabel('Percentage of cars ')\n",
    "vals = ax.get_yticks()\n",
    "ax.set_yticklabels(['{:,.2%}'.format(x) for x in vals])\n",
    "plt.show()"
   ]
  },
  {
   "cell_type": "code",
   "execution_count": null,
   "metadata": {},
   "outputs": [],
   "source": [
    "plt.figure(figsize=(15,10))\n",
    "ax = df['type'].value_counts(normalize = True).plot(kind='bar', color = 'orange')\n",
    "plt.title('Cars for sale by Type')\n",
    "plt.xlabel('Type')\n",
    "plt.ylabel('Percentage of cars ')\n",
    "vals = ax.get_yticks()\n",
    "ax.set_yticklabels(['{:,.2%}'.format(x) for x in vals])\n",
    "plt.show()"
   ]
  },
  {
   "cell_type": "code",
   "execution_count": null,
   "metadata": {},
   "outputs": [],
   "source": [
    "\n",
    "ax = df.groupby(['drive', 'condition']).price.count().unstack().plot(kind = 'bar',figsize = (12,8) )\n",
    "plt.ylabel(\"Number of Cars\")\n",
    "plt.xlabel(\"Drivetrain\")\n",
    "plt.title('Number of cars by Condition')"
   ]
  },
  {
   "cell_type": "code",
   "execution_count": null,
   "metadata": {},
   "outputs": [],
   "source": [
    "fig = plt.figure(figsize = (10,8))\n",
    "ax = df.groupby([ 'fuel']).odometer.median().plot(kind = 'bar', color = 'blue');\n",
    "plt.title('Cars mileage by fuel type')\n",
    "plt.xlabel('Fuel')\n",
    "plt.ylabel('Average miles')"
   ]
  },
  {
   "cell_type": "code",
   "execution_count": null,
   "metadata": {},
   "outputs": [],
   "source": [
    "sample = df.sample(n = 1000)\n",
    "sns.lmplot('odometer', 'price', data=sample[['price','odometer']],height = 6, aspect = 1.5)\n",
    "plt.ylim(0, None);\n",
    "plt.title('Miles-Price')\n",
    "plt.xlabel('Miles')"
   ]
  },
  {
   "cell_type": "code",
   "execution_count": null,
   "metadata": {},
   "outputs": [],
   "source": [
    "sample = df.sample(n = 1000)\n",
    "sns.lmplot('year', 'price', data=sample[['price','year']],height = 6, aspect = 1.5)\n",
    "plt.ylim(0, None);\n",
    "plt.title('Year-Price')"
   ]
  },
  {
   "cell_type": "markdown",
   "metadata": {},
   "source": [
    "####  Creating New Column for Leather seats from Description"
   ]
  },
  {
   "cell_type": "code",
   "execution_count": null,
   "metadata": {},
   "outputs": [],
   "source": [
    "df['leather_seats'] = np.where((df['description'].str.contains('leather')) |\n",
    "                          (df['description'].str.contains('Leather'))|\n",
    "                          (df['description'].str.contains('LEATHER')) , 1,0)"
   ]
  },
  {
   "cell_type": "code",
   "execution_count": null,
   "metadata": {},
   "outputs": [],
   "source": [
    "df['leather_seats'].sum()"
   ]
  },
  {
   "cell_type": "code",
   "execution_count": null,
   "metadata": {},
   "outputs": [],
   "source": [
    "# Removing Description column\n",
    "df.drop(['description'], axis = 1, inplace = True)\n"
   ]
  },
  {
   "cell_type": "code",
   "execution_count": null,
   "metadata": {},
   "outputs": [],
   "source": [
    "df.head()"
   ]
  },
  {
   "cell_type": "code",
   "execution_count": null,
   "metadata": {},
   "outputs": [],
   "source": []
  }
 ],
 "metadata": {
  "kernelspec": {
   "display_name": "Python 3",
   "language": "python",
   "name": "python3"
  },
  "language_info": {
   "codemirror_mode": {
    "name": "ipython",
    "version": 3
   },
   "file_extension": ".py",
   "mimetype": "text/x-python",
   "name": "python",
   "nbconvert_exporter": "python",
   "pygments_lexer": "ipython3",
   "version": "3.8.3"
  }
 },
 "nbformat": 4,
 "nbformat_minor": 4
}

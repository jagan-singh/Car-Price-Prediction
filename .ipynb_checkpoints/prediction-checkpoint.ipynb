{
 "cells": [
  {
   "cell_type": "code",
   "execution_count": 2,
   "metadata": {},
   "outputs": [],
   "source": [
    "import pandas as pd\n",
    "import numpy as np\n",
    "import joblib"
   ]
  },
  {
   "cell_type": "code",
   "execution_count": 3,
   "metadata": {},
   "outputs": [],
   "source": [
    "model = joblib.load('final_model.pkl')"
   ]
  },
  {
   "cell_type": "markdown",
   "metadata": {},
   "source": [
    "['year', 'cylinders', 'odometer', 'leather_seats', 'condition_fair',\n",
    "       'condition_good', 'condition_salvage', 'fuel_electric', 'fuel_gas',\n",
    "       'fuel_hybrid', 'fuel_other', 'title_status_lien',\n",
    "       'title_status_missing', 'title_status_parts only',\n",
    "       'title_status_rebuilt', 'title_status_salvage', 'transmission_manual',\n",
    "       'drive_fwd', 'drive_rwd', 'size_full-size', 'size_mid-size',\n",
    "       'size_sub-compact', 'type_bus', 'type_convertible', 'type_coupe',\n",
    "       'type_hatchback', 'type_mini-van', 'type_offroad', 'type_other',\n",
    "       'type_pickup', 'type_sedan', 'type_truck', 'type_van', 'type_wagon',\n",
    "       'paint_color_blue', 'paint_color_brown', 'paint_color_custom',\n",
    "       'paint_color_green', 'paint_color_grey', 'paint_color_orange',\n",
    "       'paint_color_purple', 'paint_color_red', 'paint_color_silver',\n",
    "       'paint_color_white', 'paint_color_yellow', 'manufacturer_alfa-romeo',\n",
    "       'manufacturer_aston-martin', 'manufacturer_audi', 'manufacturer_bmw',\n",
    "       'manufacturer_buick', 'manufacturer_cadillac', 'manufacturer_chevrolet',\n",
    "       'manufacturer_chrysler', 'manufacturer_datsun', 'manufacturer_dodge',\n",
    "       'manufacturer_ferrari', 'manufacturer_fiat', 'manufacturer_ford',\n",
    "       'manufacturer_gmc', 'manufacturer_harley-davidson',\n",
    "       'manufacturer_hennessey', 'manufacturer_honda', 'manufacturer_hyundai',\n",
    "       'manufacturer_infiniti', 'manufacturer_jaguar', 'manufacturer_jeep',\n",
    "       'manufacturer_kia', 'manufacturer_land rover', 'manufacturer_lexus',\n",
    "       'manufacturer_lincoln', 'manufacturer_mazda',\n",
    "       'manufacturer_mercedes-benz', 'manufacturer_mercury',\n",
    "       'manufacturer_mini', 'manufacturer_mitsubishi', 'manufacturer_nissan',\n",
    "       'manufacturer_pontiac', 'manufacturer_porsche', 'manufacturer_ram',\n",
    "       'manufacturer_rover', 'manufacturer_saturn', 'manufacturer_subaru',\n",
    "       'manufacturer_tesla', 'manufacturer_toyota', 'manufacturer_volkswagen',\n",
    "       'manufacturer_volvo']"
   ]
  },
  {
   "cell_type": "code",
   "execution_count": null,
   "metadata": {},
   "outputs": [],
   "source": [
    "def predict(model):\n",
    "    \n",
    "    model.predict\n",
    "    "
   ]
  }
 ],
 "metadata": {
  "kernelspec": {
   "display_name": "Python 3",
   "language": "python",
   "name": "python3"
  },
  "language_info": {
   "codemirror_mode": {
    "name": "ipython",
    "version": 3
   },
   "file_extension": ".py",
   "mimetype": "text/x-python",
   "name": "python",
   "nbconvert_exporter": "python",
   "pygments_lexer": "ipython3",
   "version": "3.8.3"
  }
 },
 "nbformat": 4,
 "nbformat_minor": 4
}
